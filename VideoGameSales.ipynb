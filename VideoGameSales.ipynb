{
  "nbformat": 4,
  "nbformat_minor": 0,
  "metadata": {
    "colab": {
      "provenance": [],
      "include_colab_link": true
    },
    "kernelspec": {
      "name": "python3",
      "display_name": "Python 3"
    },
    "language_info": {
      "name": "python"
    }
  },
  "cells": [
    {
      "cell_type": "markdown",
      "metadata": {
        "id": "view-in-github",
        "colab_type": "text"
      },
      "source": [
        "<a href=\"https://colab.research.google.com/github/SKYLERJORDAN/VideoGameSales/blob/main/VideoGameSales.ipynb\" target=\"_parent\"><img src=\"https://colab.research.google.com/assets/colab-badge.svg\" alt=\"Open In Colab\"/></a>"
      ]
    },
    {
      "cell_type": "markdown",
      "source": [
        "### Retrieving Data"
      ],
      "metadata": {
        "id": "vkf-g75uTjHu"
      }
    },
    {
      "cell_type": "code",
      "source": [
        "! pip install kaggle"
      ],
      "metadata": {
        "colab": {
          "base_uri": "https://localhost:8080/"
        },
        "id": "39IOb50aI8lu",
        "outputId": "8789158a-acb5-4f11-f617-4c1036d07f05"
      },
      "execution_count": 1,
      "outputs": [
        {
          "output_type": "stream",
          "name": "stdout",
          "text": [
            "Requirement already satisfied: kaggle in /usr/local/lib/python3.10/dist-packages (1.5.16)\n",
            "Requirement already satisfied: six>=1.10 in /usr/local/lib/python3.10/dist-packages (from kaggle) (1.16.0)\n",
            "Requirement already satisfied: certifi in /usr/local/lib/python3.10/dist-packages (from kaggle) (2024.2.2)\n",
            "Requirement already satisfied: python-dateutil in /usr/local/lib/python3.10/dist-packages (from kaggle) (2.8.2)\n",
            "Requirement already satisfied: requests in /usr/local/lib/python3.10/dist-packages (from kaggle) (2.31.0)\n",
            "Requirement already satisfied: tqdm in /usr/local/lib/python3.10/dist-packages (from kaggle) (4.66.2)\n",
            "Requirement already satisfied: python-slugify in /usr/local/lib/python3.10/dist-packages (from kaggle) (8.0.4)\n",
            "Requirement already satisfied: urllib3 in /usr/local/lib/python3.10/dist-packages (from kaggle) (2.0.7)\n",
            "Requirement already satisfied: bleach in /usr/local/lib/python3.10/dist-packages (from kaggle) (6.1.0)\n",
            "Requirement already satisfied: webencodings in /usr/local/lib/python3.10/dist-packages (from bleach->kaggle) (0.5.1)\n",
            "Requirement already satisfied: text-unidecode>=1.3 in /usr/local/lib/python3.10/dist-packages (from python-slugify->kaggle) (1.3)\n",
            "Requirement already satisfied: charset-normalizer<4,>=2 in /usr/local/lib/python3.10/dist-packages (from requests->kaggle) (3.3.2)\n",
            "Requirement already satisfied: idna<4,>=2.5 in /usr/local/lib/python3.10/dist-packages (from requests->kaggle) (3.6)\n"
          ]
        }
      ]
    },
    {
      "cell_type": "code",
      "source": [
        "from google.colab import drive\n",
        "drive.mount('/content/drive')"
      ],
      "metadata": {
        "colab": {
          "base_uri": "https://localhost:8080/"
        },
        "id": "MmTKKMXhJDKS",
        "outputId": "1fb1ce6c-fedc-47c6-bff9-3f94b4378cb6"
      },
      "execution_count": 2,
      "outputs": [
        {
          "output_type": "stream",
          "name": "stdout",
          "text": [
            "Drive already mounted at /content/drive; to attempt to forcibly remount, call drive.mount(\"/content/drive\", force_remount=True).\n"
          ]
        }
      ]
    },
    {
      "cell_type": "code",
      "source": [
        "! mkdir ~/.kaggle"
      ],
      "metadata": {
        "id": "zJEItwaRKhdM",
        "colab": {
          "base_uri": "https://localhost:8080/"
        },
        "outputId": "f8538c90-df61-47d9-cad3-d108745dcd0b"
      },
      "execution_count": 3,
      "outputs": [
        {
          "output_type": "stream",
          "name": "stdout",
          "text": [
            "mkdir: cannot create directory ‘/root/.kaggle’: File exists\n"
          ]
        }
      ]
    },
    {
      "cell_type": "code",
      "source": [
        "!cp /content/drive/MyDrive/ColabNotebooks/Data/kaggle.json ~/.kaggle/kaggle.json"
      ],
      "metadata": {
        "id": "NSKb1N8vKhoX"
      },
      "execution_count": 4,
      "outputs": []
    },
    {
      "cell_type": "code",
      "source": [
        "! chmod 600 ~/.kaggle/kaggle.json"
      ],
      "metadata": {
        "id": "J61dkbEVK_N4"
      },
      "execution_count": 5,
      "outputs": []
    },
    {
      "cell_type": "code",
      "source": [
        "! kaggle datasets download gregorut/videogamesales"
      ],
      "metadata": {
        "colab": {
          "base_uri": "https://localhost:8080/"
        },
        "id": "tYITdKxZMww1",
        "outputId": "f2963d5f-f25e-449f-f95d-360dabde49bd"
      },
      "execution_count": 6,
      "outputs": [
        {
          "output_type": "stream",
          "name": "stdout",
          "text": [
            "videogamesales.zip: Skipping, found more recently modified local copy (use --force to force download)\n"
          ]
        }
      ]
    },
    {
      "cell_type": "code",
      "source": [
        "!unzip videogamesales.zip"
      ],
      "metadata": {
        "colab": {
          "base_uri": "https://localhost:8080/"
        },
        "id": "14xI83hPNK1V",
        "outputId": "6e4c0a6e-f715-4270-c05d-1675266a93ee"
      },
      "execution_count": null,
      "outputs": [
        {
          "output_type": "stream",
          "name": "stdout",
          "text": [
            "Archive:  videogamesales.zip\n",
            "replace vgsales.csv? [y]es, [n]o, [A]ll, [N]one, [r]ename: "
          ]
        }
      ]
    },
    {
      "cell_type": "markdown",
      "source": [
        "### Import Libraries"
      ],
      "metadata": {
        "id": "yTrBaxeZTtYA"
      }
    },
    {
      "cell_type": "code",
      "execution_count": null,
      "metadata": {
        "id": "bbp6agHZDJDR"
      },
      "outputs": [],
      "source": [
        "import pandas as pd\n",
        "import matplotlib.pyplot as plt\n",
        "import seaborn as sns\n",
        "import numpy as np\n",
        "import plotly.express as px"
      ]
    },
    {
      "cell_type": "markdown",
      "source": [
        "### Reading In and Inspecting Data"
      ],
      "metadata": {
        "id": "M26H4ZH1T2ZF"
      }
    },
    {
      "cell_type": "code",
      "source": [
        "vg = pd.read_csv('vgsales.csv', index_col=[0])\n",
        "vg.head()"
      ],
      "metadata": {
        "id": "f6uleqvJG8VU"
      },
      "execution_count": null,
      "outputs": []
    },
    {
      "cell_type": "code",
      "source": [
        "vg.shape"
      ],
      "metadata": {
        "id": "wypJo_LbNqb_"
      },
      "execution_count": null,
      "outputs": []
    },
    {
      "cell_type": "code",
      "source": [
        "vg.info()"
      ],
      "metadata": {
        "id": "vh9b_AYmNumP"
      },
      "execution_count": null,
      "outputs": []
    },
    {
      "cell_type": "code",
      "source": [
        "vg.describe()"
      ],
      "metadata": {
        "id": "GjpjcJ0q_2m4"
      },
      "execution_count": null,
      "outputs": []
    },
    {
      "cell_type": "code",
      "source": [
        "vg['Genre'].value_counts()"
      ],
      "metadata": {
        "id": "iK8kPvl9ACUW"
      },
      "execution_count": null,
      "outputs": []
    },
    {
      "cell_type": "markdown",
      "source": [
        "### Cleaning Data"
      ],
      "metadata": {
        "id": "ucPe0oCY-l0n"
      }
    },
    {
      "cell_type": "code",
      "source": [
        "vg = vg.dropna()"
      ],
      "metadata": {
        "id": "wUW2J7j55nai"
      },
      "execution_count": null,
      "outputs": []
    },
    {
      "cell_type": "code",
      "source": [
        "vg.isnull().sum()"
      ],
      "metadata": {
        "id": "toqx8kmQ6giE"
      },
      "execution_count": null,
      "outputs": []
    },
    {
      "cell_type": "code",
      "source": [
        "vg['Year'] = vg['Year'].astype(np.int64)"
      ],
      "metadata": {
        "id": "A2X2ymmRNxOT"
      },
      "execution_count": null,
      "outputs": []
    },
    {
      "cell_type": "code",
      "source": [
        "vg.dtypes"
      ],
      "metadata": {
        "id": "bHzdPX88S-4m"
      },
      "execution_count": null,
      "outputs": []
    },
    {
      "cell_type": "markdown",
      "source": [
        "### Visualize"
      ],
      "metadata": {
        "id": "IGjv1gtR_Ofr"
      }
    },
    {
      "cell_type": "code",
      "source": [
        "genreCounts = vg['Genre'].value_counts()\n",
        "fig = px.bar(genreCounts, x = genreCounts.index,\n",
        "             y = genreCounts.values,\n",
        "             color = genreCounts.index,\n",
        "             color_discrete_sequence= px.colors.qualitative.Prism,\n",
        "             template = \"plotly_dark\"\n",
        "             )\n",
        "fig.update_layout(\n",
        "    title=\"MOST SELLING GAMES BY GENRE\",\n",
        "    xaxis_title=\"Genre\",\n",
        "    yaxis_title=\"Count\"\n",
        "    )\n",
        "fig.show()"
      ],
      "metadata": {
        "id": "xZV7cmQ1AsWy"
      },
      "execution_count": null,
      "outputs": []
    },
    {
      "cell_type": "markdown",
      "source": [
        "##### Based on the graph shown above, the Action genre produce the most selling games.\n",
        "\n"
      ],
      "metadata": {
        "id": "-uMwofMABvUd"
      }
    },
    {
      "cell_type": "code",
      "source": [
        "platformCounts = vg['Platform'].value_counts()[:10]\n",
        "fig = px.bar(platformCounts, x = platformCounts.index,\n",
        "             y = platformCounts.values,\n",
        "             color = platformCounts.index,\n",
        "             color_discrete_sequence= px.colors.qualitative.Prism,\n",
        "             template = \"plotly_dark\"\n",
        "             )\n",
        "fig.update_layout(\n",
        "    title=\"Top Ten Platforms With Games\",\n",
        "    xaxis_title=\"Platform\",\n",
        "    yaxis_title=\"Count\"\n",
        "    )\n",
        "fig.show()"
      ],
      "metadata": {
        "id": "eMIy1QItBIIX"
      },
      "execution_count": null,
      "outputs": []
    },
    {
      "cell_type": "markdown",
      "source": [
        "##### When comparing the various gaming platforms, the DS and PS2 seen major games being produced for it. While you can see newer and older platforms not seeing the same success. What you can conclude from this graph is that during the time period of these two platform videos games were at its peak in terms of sales."
      ],
      "metadata": {
        "id": "DY79UvQOCMqn"
      }
    },
    {
      "cell_type": "code",
      "source": [
        "yearCounts = vg['Year'].value_counts()\n",
        "fig = px.bar(yearCounts, x=yearCounts.index,\n",
        "             y=yearCounts.values,\n",
        "             color_discrete_sequence=px.colors.qualitative.Prism,\n",
        "             template = \"plotly_dark\",\n",
        "             )\n",
        "\n",
        "fig.update_layout(\n",
        "    title=\"Games Produced By Year\",\n",
        "    xaxis_title=\"Year\",\n",
        "    yaxis_title=\"Count\"\n",
        "    )\n",
        "fig.show()"
      ],
      "metadata": {
        "id": "VOQ4ryz6rWqX"
      },
      "execution_count": null,
      "outputs": []
    },
    {
      "cell_type": "markdown",
      "source": [
        "##### Over the 5 year period of 2005 to 2010 you can see high growth in exponential growth and peaking in 2010. Even seeing a major drop in production of games from 2011 to 2012."
      ],
      "metadata": {
        "id": "GEURRFbAC9Ud"
      }
    },
    {
      "cell_type": "code",
      "source": [
        "top_genres = [\"Platform\", \"Role-Playing\", \"Misc\", \"Sports\", \"Action\"]\n",
        "Gs = vg[vg.Genre.isin(top_genres)].groupby([\"Genre\", \"Year\"]).sum(numeric_only=False).reset_index()\n",
        "\n",
        "line_colors = [\"#7CEA9C\", '#50B2C0', \"rgb(114, 78, 145)\", \"hsv(348, 66%, 90%)\", \"hsl(45, 93%, 58%)\"]\n",
        "fig = px.line(Gs, \"Year\", \"Global_Sales\", height = 500, width = 800, color = \"Genre\",\n",
        "        title = \"Global Profit for Top Video Game Genres Over Time\",\n",
        "        labels = {\"Global_Sales\": \"Global Sales in Millions (USD)\"},\n",
        "        template = \"plotly_dark\",\n",
        "        color_discrete_sequence=line_colors)\n",
        "fig.show()"
      ],
      "metadata": {
        "id": "46oGfnEh2KZD"
      },
      "execution_count": null,
      "outputs": []
    },
    {
      "cell_type": "markdown",
      "source": [
        "##### Video game profit for most genres peaked around 2009."
      ],
      "metadata": {
        "id": "RlGqRmwDFChe"
      }
    },
    {
      "cell_type": "markdown",
      "source": [
        "### Conclusion\n",
        "\n",
        "If developing a game the Action genre will draw more attention possibly leading to increase sales over other genres. Also Seeing major profit in any genre has peak around the late 2000's unless you develope an outlier of a game.\n",
        "\n",
        "\n"
      ],
      "metadata": {
        "id": "SucN_pFs5WAA"
      }
    }
  ]
}